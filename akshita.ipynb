{
  "nbformat": 4,
  "nbformat_minor": 0,
  "metadata": {
    "colab": {
      "provenance": []
    },
    "kernelspec": {
      "name": "python3",
      "display_name": "Python 3"
    },
    "language_info": {
      "name": "python"
    }
  },
  "cells": [
    {
      "cell_type": "markdown",
      "source": [
        "#PYTHON BASIC QUESTIONS\n",
        "Q1:What is Python, and why is it popular?\n",
        "\n",
        "Ans1: python is a programming language. it is popular for its easy syntax, strong community, rich libraries etc.\n",
        "\n",
        "Q2:What is an interpreter in Python?\n",
        "\n",
        "Ans2: An interpreter in python reads the code line by line to execute it.\n",
        "\n",
        "Q3: What are pre-defined keywords in Python?\n",
        "\n",
        "Ans3: pre-defined keywords are reserved words in python that have a special meaning to them, and we cant name any varyable etc on their name.\n",
        "eg: if,elif,else.def,True,False,and,or,print,for,in,is etc.\n",
        "\n",
        "Q4: Can keywords be used as variable names?\n",
        "\n",
        "Ans4: No, the keywords cant be used as variable names as they have a special meaning to them and it can cause syntax errors.\n",
        "\n",
        "Q5: What is mutability in Python?\n",
        "Ans5: mutablity in python means that objects can be changed in place, it allows dynamic data mnipulation. eg: list is mutable in python.\n",
        "\n",
        "Q6:Why are lists mutable, but tuples are immutable?\n",
        "\n",
        "Ans6: Both lists and tuples are collection of items but the only difference is of their mutablility. lists are mutable but tuples are not , because tuples use more compact, fixed size memory.\n",
        "\n",
        "Q7:What is the difference between “==” and “is” operators in Python?\n",
        "\n",
        "Ans7: \"==\" checks whether the value is equal, but \"is\" tells whether the same object in memory is pointed or not.\n",
        "\n",
        "Q8:8 What are logical operators in Python?\n",
        "\n",
        "Ans8:logical operators are and, or, not. these operators build logic in the program.\n",
        "\n",
        "Q9:What is type casting in Python?\n",
        "\n",
        "Ans9: typecasting is basically changing the existing data type to another.\n",
        "\n",
        "Q10:What is the difference between implicit and explicit type casting?\n",
        "\n",
        "Ans10: Implicit Type casting: here the data type is changed by the python itself\n",
        "eg. a=3.5(float),b=3(int), then a+b=6.5(float)\n",
        "\n",
        "Explicit type casting: the type casting is done by the user itself.\n",
        "eg. a=5(int), then float(a) gives 5.0\n",
        "\n",
        "Q11: What is the purpose of conditional statements in Python?\n",
        "\n",
        "Ans11: the purpose of conditional statements in python is to make decisions for our code,i.e., to control the flow of execution for a specific condition.\n",
        "\n",
        "\n",
        "Q12: How does the elif statement work?\n",
        "\n",
        "Ans12: elif statement is made by the both else and if statements. It is used to check multiple conditions in python.\n",
        "\n",
        "\n",
        "Q13: What is the difference between for and while loops?\n",
        "\n",
        "Ans13: for loop is used when you know the number of repetitions.\n",
        "it iterates over a sequence.\n",
        "\n",
        "while loop is used when you dont know the number of repetitions.\n",
        "it iterates till the condition is true.\n",
        "\n",
        "Q14: Describe a scenario where a while loop is more suitable than a for loop.\n",
        "\n",
        "Ans14:for example in a code the user has to input a password, so while is better here instead of for as we dont know how much tries would the user be taking to enter the correct password. so the code block iterates itself until the condtion is true(or the password is correct)\n",
        "\n",
        "--------------------------------------------------------------------------------\n"
      ],
      "metadata": {
        "id": "AfOGYE7N-mJS"
      }
    },
    {
      "cell_type": "markdown",
      "source": [
        "#PRACTICAL QUESTIONS\n"
      ],
      "metadata": {
        "id": "VSCBKxTyeA9m"
      }
    },
    {
      "cell_type": "code",
      "source": [
        "#Q1:Write a Python program to print \"Hello, World!\"\n",
        "print(\"Hello,World!\")"
      ],
      "metadata": {
        "colab": {
          "base_uri": "https://localhost:8080/"
        },
        "id": "BtyAW9jzeHoH",
        "outputId": "892dbbb4-e3b0-4f49-88fd-1e9d3a491fcb"
      },
      "execution_count": null,
      "outputs": [
        {
          "output_type": "stream",
          "name": "stdout",
          "text": [
            "Hello,World!\n"
          ]
        }
      ]
    },
    {
      "cell_type": "code",
      "source": [
        "#Q2:Write a Python program that displays your name and age.\n",
        "name=input(\"enter you name\")\n",
        "age=int(input(\"enter your age\"))\n",
        "print(\"your name is\", name,\"and your age is\",age,\"years old\")"
      ],
      "metadata": {
        "colab": {
          "base_uri": "https://localhost:8080/"
        },
        "id": "79I27yd-eMHE",
        "outputId": "7acfaf0e-7e8c-49ea-9713-d6b817f733d9"
      },
      "execution_count": null,
      "outputs": [
        {
          "output_type": "stream",
          "name": "stdout",
          "text": [
            "enter you nameAkshita\n",
            "enter your age19\n",
            "your name is Akshita and your age is 19 years old\n"
          ]
        }
      ]
    },
    {
      "cell_type": "code",
      "source": [
        "#Q3:Write code to print all the pre-defined keywords in Python using the keyword library\n",
        "help('keywords')"
      ],
      "metadata": {
        "colab": {
          "base_uri": "https://localhost:8080/"
        },
        "id": "WoxjCyWofSor",
        "outputId": "02b7a9db-a240-4137-a6ba-ae214fabbeee"
      },
      "execution_count": null,
      "outputs": [
        {
          "output_type": "stream",
          "name": "stdout",
          "text": [
            "\n",
            "Here is a list of the Python keywords.  Enter any keyword to get more help.\n",
            "\n",
            "False               class               from                or\n",
            "None                continue            global              pass\n",
            "True                def                 if                  raise\n",
            "and                 del                 import              return\n",
            "as                  elif                in                  try\n",
            "assert              else                is                  while\n",
            "async               except              lambda              with\n",
            "await               finally             nonlocal            yield\n",
            "break               for                 not                 \n",
            "\n"
          ]
        }
      ]
    },
    {
      "cell_type": "code",
      "source": [
        "#Q4:Write a program that checks if a given word is a Python keyword.\n",
        "import keyword\n",
        "word=input(\"enter a word\")\n",
        "if keyword.iskeyword(word):\n",
        "  print(\"the word is a keyword\")\n",
        "else:\n",
        "  print(\"the word is not a keyword\")\n"
      ],
      "metadata": {
        "colab": {
          "base_uri": "https://localhost:8080/"
        },
        "id": "6OjocyiZfcMt",
        "outputId": "f74f5112-7691-498f-ce6b-cd212cd869b8"
      },
      "execution_count": null,
      "outputs": [
        {
          "output_type": "stream",
          "name": "stdout",
          "text": [
            "enter a wordhello\n",
            "the word is not a keyword\n"
          ]
        }
      ]
    },
    {
      "cell_type": "code",
      "source": [
        "#Q5:Create a list and tuple in Python, and demonstrate how attempting to change an element works differently for each.\n",
        "list1=[1,2.0,\"yash\"]\n",
        "tuple1=(3.67,12,\"akshita\")\n",
        "list1[1]=\"akshita\"                                                               '''will work fine(mutable)'''\n",
        "print(list1)\n",
        "tuple1[2]=\"2\"                                                                    '''wont work and give an error(immutable)'''\n",
        "print(tuple1)"
      ],
      "metadata": {
        "colab": {
          "base_uri": "https://localhost:8080/",
          "height": 211
        },
        "id": "sZTgaFF4f-hP",
        "outputId": "697bd724-e94e-4be0-a79c-8ea64a82f084"
      },
      "execution_count": null,
      "outputs": [
        {
          "output_type": "stream",
          "name": "stdout",
          "text": [
            "[1, 'akshita', 'yash']\n"
          ]
        },
        {
          "output_type": "error",
          "ename": "TypeError",
          "evalue": "'tuple' object does not support item assignment",
          "traceback": [
            "\u001b[0;31m---------------------------------------------------------------------------\u001b[0m",
            "\u001b[0;31mTypeError\u001b[0m                                 Traceback (most recent call last)",
            "\u001b[0;32m<ipython-input-13-3d76b496b104>\u001b[0m in \u001b[0;36m<cell line: 0>\u001b[0;34m()\u001b[0m\n\u001b[1;32m      4\u001b[0m \u001b[0mlist1\u001b[0m\u001b[0;34m[\u001b[0m\u001b[0;36m1\u001b[0m\u001b[0;34m]\u001b[0m\u001b[0;34m=\u001b[0m\u001b[0;34m\"akshita\"\u001b[0m\u001b[0;34m\u001b[0m\u001b[0;34m\u001b[0m\u001b[0m\n\u001b[1;32m      5\u001b[0m \u001b[0mprint\u001b[0m\u001b[0;34m(\u001b[0m\u001b[0mlist1\u001b[0m\u001b[0;34m)\u001b[0m\u001b[0;34m\u001b[0m\u001b[0;34m\u001b[0m\u001b[0m\n\u001b[0;32m----> 6\u001b[0;31m \u001b[0mtuple1\u001b[0m\u001b[0;34m[\u001b[0m\u001b[0;36m2\u001b[0m\u001b[0;34m]\u001b[0m\u001b[0;34m=\u001b[0m\u001b[0;34m\"2\"\u001b[0m\u001b[0;34m\u001b[0m\u001b[0;34m\u001b[0m\u001b[0m\n\u001b[0m\u001b[1;32m      7\u001b[0m \u001b[0mprint\u001b[0m\u001b[0;34m(\u001b[0m\u001b[0mtuple1\u001b[0m\u001b[0;34m)\u001b[0m\u001b[0;34m\u001b[0m\u001b[0;34m\u001b[0m\u001b[0m\n",
            "\u001b[0;31mTypeError\u001b[0m: 'tuple' object does not support item assignment"
          ]
        }
      ]
    },
    {
      "cell_type": "code",
      "source": [
        "#Q6:Write a function to demonstrate the behavior of mutable and immutable arguments\n",
        "list1=[1,2.0,\"akshita\"]\n",
        "list1[0]=\"hello\"\n",
        "print(\"the new list is:\",list1)\n",
        "\n",
        "tuple1=(1,2.0,\"akshita\")\n",
        "tuple1[0]=\"hello\"\n",
        "#above line will show error as we use immutable argument\n",
        "print(\"the new tuple is:\",tuple1)\n"
      ],
      "metadata": {
        "id": "g-rMZRTsg1FV",
        "colab": {
          "base_uri": "https://localhost:8080/",
          "height": 228
        },
        "outputId": "dbc48a99-52b3-4e25-cb8f-c71b21684380"
      },
      "execution_count": 47,
      "outputs": [
        {
          "output_type": "stream",
          "name": "stdout",
          "text": [
            "the new list is: ['hello', 2.0, 'akshita']\n"
          ]
        },
        {
          "output_type": "error",
          "ename": "TypeError",
          "evalue": "'tuple' object does not support item assignment",
          "traceback": [
            "\u001b[0;31m---------------------------------------------------------------------------\u001b[0m",
            "\u001b[0;31mTypeError\u001b[0m                                 Traceback (most recent call last)",
            "\u001b[0;32m<ipython-input-47-7ff49cd80735>\u001b[0m in \u001b[0;36m<cell line: 0>\u001b[0;34m()\u001b[0m\n\u001b[1;32m      5\u001b[0m \u001b[0;34m\u001b[0m\u001b[0m\n\u001b[1;32m      6\u001b[0m \u001b[0mtuple1\u001b[0m\u001b[0;34m=\u001b[0m\u001b[0;34m(\u001b[0m\u001b[0;36m1\u001b[0m\u001b[0;34m,\u001b[0m\u001b[0;36m2.0\u001b[0m\u001b[0;34m,\u001b[0m\u001b[0;34m\"akshita\"\u001b[0m\u001b[0;34m)\u001b[0m\u001b[0;34m\u001b[0m\u001b[0;34m\u001b[0m\u001b[0m\n\u001b[0;32m----> 7\u001b[0;31m \u001b[0mtuple1\u001b[0m\u001b[0;34m[\u001b[0m\u001b[0;36m0\u001b[0m\u001b[0;34m]\u001b[0m\u001b[0;34m=\u001b[0m\u001b[0;34m\"hello\"\u001b[0m\u001b[0;34m\u001b[0m\u001b[0;34m\u001b[0m\u001b[0m\n\u001b[0m\u001b[1;32m      8\u001b[0m \u001b[0;31m#above line will show error as we use immutable argument\u001b[0m\u001b[0;34m\u001b[0m\u001b[0;34m\u001b[0m\u001b[0m\n\u001b[1;32m      9\u001b[0m \u001b[0mprint\u001b[0m\u001b[0;34m(\u001b[0m\u001b[0;34m\"the new tuple is:\"\u001b[0m\u001b[0;34m,\u001b[0m\u001b[0mtuple1\u001b[0m\u001b[0;34m)\u001b[0m\u001b[0;34m\u001b[0m\u001b[0;34m\u001b[0m\u001b[0m\n",
            "\u001b[0;31mTypeError\u001b[0m: 'tuple' object does not support item assignment"
          ]
        }
      ]
    },
    {
      "cell_type": "code",
      "source": [
        "#Q7:Write a program that performs basic arithmetic operations on two user-input numbers\n",
        "a=int(input(\"enter the first number: \"))\n",
        "b=int(input(\"enter thw second number: \"))\n",
        "sum=a+b\n",
        "print(\"sum is \",sum)\n",
        "difference=a-b\n",
        "print(\"difference is \",difference)\n",
        "product=a*b\n",
        "print(\"product is \",product)\n",
        "if a>b:\n",
        "  print(\"quotient is \", a/b, \"and remainder is\", a%b)\n",
        "else:\n",
        "  print(\"quotient is \", b/a, \"and remainder is\", b%a)\n"
      ],
      "metadata": {
        "colab": {
          "base_uri": "https://localhost:8080/"
        },
        "id": "hzK8YyvAhfCs",
        "outputId": "8c69171a-06dd-440b-ae19-fbfcfb74c870"
      },
      "execution_count": null,
      "outputs": [
        {
          "output_type": "stream",
          "name": "stdout",
          "text": [
            "enter the first number: 4\n",
            "enter thw second number: 12\n",
            "sum is  16\n",
            "difference is  -8\n",
            "product is  48\n",
            "quotient is  3.0 and remainder is 0\n"
          ]
        }
      ]
    },
    {
      "cell_type": "code",
      "source": [
        "#Q8:Write a program to demonstrate the use of logical operators.\n",
        "a=input(\"enter True/ False for a: \")\n",
        "b=input(\"enter True/ False for b: \")\n",
        "if a==\"True\":\n",
        "  a=True\n",
        "elif a==\"False\":\n",
        "  a=False\n",
        "else:\n",
        "  print(\"invalid input for a, retry\")\n",
        "  exit()\n",
        "\n",
        "if b==\"True\":\n",
        "  b=True\n",
        "elif b==\"False\":\n",
        "  b=False\n",
        "else:\n",
        "  print(\"invalid input for b, retry\")\n",
        "  exit()\n",
        "\n",
        "\n",
        "print(\"a and b is\", a and b)\n",
        "print(\"a or b is\", a or b)\n",
        "print(\"not a is\", not a)\n",
        "print(\"not b is\", not b)"
      ],
      "metadata": {
        "colab": {
          "base_uri": "https://localhost:8080/"
        },
        "id": "g6ulDI7SitzK",
        "outputId": "4aec9972-6ea7-4765-d148-a79a072fdcf9"
      },
      "execution_count": 7,
      "outputs": [
        {
          "output_type": "stream",
          "name": "stdout",
          "text": [
            "enter True/ False for a: True\n",
            "enter True/ False for b: False\n",
            "a and b is False\n",
            "a or b is True\n",
            "not a is False\n",
            "not b is True\n"
          ]
        }
      ]
    },
    {
      "cell_type": "code",
      "source": [
        "#Q9:  Write a Python program to convert user input from string to integer, float, and boolean types\n",
        "#Note: as the input is always a str, we will convert the str and check too whether it can be typecasted or not\n",
        "a=input(\"enter any value:\")\n",
        "print(\"integer typecasting\",int(a))\n",
        "print(\"float typecasting\",float(a))\n",
        "\n",
        "if a!=None:\n",
        "  boolval=True\n",
        "else:\n",
        "  boolval=False\n",
        "\n",
        "print(\"boolean typecasting\",boolval)"
      ],
      "metadata": {
        "colab": {
          "base_uri": "https://localhost:8080/"
        },
        "id": "b_OMyGwrlnI5",
        "outputId": "3a62d82f-0f2c-4fa7-9d3e-35d24e062d04"
      },
      "execution_count": 28,
      "outputs": [
        {
          "output_type": "stream",
          "name": "stdout",
          "text": [
            "enter any value:5\n",
            "integer typecasting 5\n",
            "float typecasting 5.0\n",
            "boolean typecasting True\n"
          ]
        }
      ]
    },
    {
      "cell_type": "code",
      "source": [
        "#Q10:. Write code to demonstrate type casting with list elements.\n",
        "listex=[123,6.987,7j+9,\"hello python\",True]\n",
        "print(\"type before tyecasting of index 1\",type(listex[1]))\n",
        "print(\"after typecasting of index 1 into int\",int(listex[1]))\n",
        "\n",
        "print(\"type before tyecasting of index 2\",type(listex[4]))\n",
        "print(\"after typecasting of index 2 into str\",str(listex[4]))\n"
      ],
      "metadata": {
        "id": "4Ue0niKjjY9z",
        "colab": {
          "base_uri": "https://localhost:8080/"
        },
        "outputId": "b181190e-9f5c-4844-b7f3-32ae25cbe7b4"
      },
      "execution_count": 50,
      "outputs": [
        {
          "output_type": "stream",
          "name": "stdout",
          "text": [
            "type before tyecasting of index 1 <class 'float'>\n",
            "after typecasting of index 1 into int 6\n",
            "type before tyecasting of index 2 <class 'bool'>\n",
            "after typecasting of index 2 into str True\n"
          ]
        }
      ]
    },
    {
      "cell_type": "code",
      "source": [
        "#Q11: Write a program that checks if a number is positive, negative, or zero.\n",
        "a=int(input(\"enter a number: \"))\n",
        "if a>0:\n",
        "  print(a,\"is positive\")\n",
        "elif a<0:\n",
        "  print(a,\"is negative\")\n",
        "else:\n",
        "  print(a,\"is zero\")"
      ],
      "metadata": {
        "colab": {
          "base_uri": "https://localhost:8080/"
        },
        "id": "bnTA2oBCqZOm",
        "outputId": "0ec72f62-0a5e-4386-839e-5c47e6bb33c0"
      },
      "execution_count": null,
      "outputs": [
        {
          "output_type": "stream",
          "name": "stdout",
          "text": [
            "enter a number: 5\n",
            "5 is positive\n"
          ]
        }
      ]
    },
    {
      "cell_type": "code",
      "source": [
        "#Q12:Write a for loop to print numbers from 1 to 10.\n",
        "for i in range(1,11):\n",
        "  print(i)\n",
        "  i+=1"
      ],
      "metadata": {
        "colab": {
          "base_uri": "https://localhost:8080/"
        },
        "id": "oUxYIyk6q30P",
        "outputId": "881cc33e-3406-4ce0-e97d-a13ab25120a5"
      },
      "execution_count": null,
      "outputs": [
        {
          "output_type": "stream",
          "name": "stdout",
          "text": [
            "1\n",
            "2\n",
            "3\n",
            "4\n",
            "5\n",
            "6\n",
            "7\n",
            "8\n",
            "9\n",
            "10\n"
          ]
        }
      ]
    },
    {
      "cell_type": "code",
      "source": [
        "#Q13: Write a Python program to find the sum of all even numbers between 1 and 50\n",
        "total = 0\n",
        "for i in range(1,51):\n",
        "  if i%2==0:\n",
        "    total = total+i\n",
        "print(\"sum of all even numbers between 1 and 50 is\",total)"
      ],
      "metadata": {
        "id": "F8v4_SU5rhtT",
        "colab": {
          "base_uri": "https://localhost:8080/"
        },
        "outputId": "027802c5-01e7-4252-b33e-f5f3e89b5550"
      },
      "execution_count": 37,
      "outputs": [
        {
          "output_type": "stream",
          "name": "stdout",
          "text": [
            "sum of all even numbers between 1 and 50 is 650\n"
          ]
        }
      ]
    },
    {
      "cell_type": "code",
      "source": [
        "#Q14. Write a program to reverse a string using a while loop.\n",
        "revstr=\" \"\n",
        "text=input(\"enter a string: \")\n",
        "i= len(text) -1\n",
        "while i>=0:\n",
        "  revstr=revstr+text[i]\n",
        "  i-=1\n",
        "print(\"the reversed string is\",revstr)\n"
      ],
      "metadata": {
        "colab": {
          "base_uri": "https://localhost:8080/"
        },
        "id": "tYHgPB_gqBRy",
        "outputId": "8f84db54-8270-4913-ecce-bf18f7825765"
      },
      "execution_count": 41,
      "outputs": [
        {
          "output_type": "stream",
          "name": "stdout",
          "text": [
            "enter a string: hello world\n",
            "the reversed string is  dlrow olleh\n"
          ]
        }
      ]
    },
    {
      "cell_type": "code",
      "source": [
        "#Q15. Write a Python program to calculate the factorial of a number provided by the user using a while loop\n",
        "num= int(input(\"enter a number to do factorial of: \"))\n",
        "fact=1\n",
        "while num>0:\n",
        "  fact=fact*num\n",
        "  num-=1\n",
        "print(\"the factorial of the given number is\",fact)\n"
      ],
      "metadata": {
        "colab": {
          "base_uri": "https://localhost:8080/"
        },
        "id": "C_fB98rYsyzG",
        "outputId": "9bd73fef-dcef-4516-a241-ae35e336600f"
      },
      "execution_count": 43,
      "outputs": [
        {
          "output_type": "stream",
          "name": "stdout",
          "text": [
            "enter a number to do factorial of: 5\n",
            "the factorial of the given number is 120\n"
          ]
        }
      ]
    },
    {
      "cell_type": "code",
      "source": [],
      "metadata": {
        "id": "AtuEYtOjtn_p"
      },
      "execution_count": null,
      "outputs": []
    }
  ]
}